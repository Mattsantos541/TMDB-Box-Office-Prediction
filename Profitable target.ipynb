{
 "cells": [
  {
   "cell_type": "code",
   "execution_count": 20,
   "metadata": {},
   "outputs": [],
   "source": [
    "import pandas as pd\n",
    "import numpy as np\n",
    "import matplotlib.pyplot as plt\n",
    "import seaborn as sns\n",
    "from sklearn.model_selection import train_test_split\n",
    "from sklearn.preprocessing import StandardScaler, MinMaxScaler\n",
    "from sklearn.metrics import mean_squared_error, r2_score, explained_variance_score\n",
    "from math import sqrt\n",
    "import warnings\n",
    "from sklearn.model_selection import cross_val_score\n",
    "from sklearn.externals import joblib\n",
    "from sklearn.model_selection import train_test_split\n",
    "from sklearn.linear_model import LinearRegression\n",
    "from sklearn.metrics import mean_squared_error\n",
    "from sklearn.metrics import r2_score\n",
    "from sklearn.linear_model import LogisticRegression\n",
    "from sklearn.metrics import classification_report\n",
    "from sklearn.metrics import confusion_matrix"
   ]
  },
  {
   "cell_type": "code",
   "execution_count": 21,
   "metadata": {},
   "outputs": [],
   "source": [
    "df= pd.read_csv('df_base')"
   ]
  },
  {
   "cell_type": "code",
   "execution_count": 22,
   "metadata": {},
   "outputs": [],
   "source": [
    "df= df.drop(columns=['poster_path', 'original_language','homepage', 'imdb_id', 'original_title', 'overview', 'status', 'Keywords', 'tagline', 'cast', 'crew', 'production_companies', 'production_countries', 'spoken_languages'])"
   ]
  },
  {
   "cell_type": "code",
   "execution_count": 23,
   "metadata": {},
   "outputs": [],
   "source": [
    "df= df.drop(columns=['Unnamed: 0'])"
   ]
  },
  {
   "cell_type": "code",
   "execution_count": 24,
   "metadata": {},
   "outputs": [
    {
     "data": {
      "text/html": [
       "<div>\n",
       "<style scoped>\n",
       "    .dataframe tbody tr th:only-of-type {\n",
       "        vertical-align: middle;\n",
       "    }\n",
       "\n",
       "    .dataframe tbody tr th {\n",
       "        vertical-align: top;\n",
       "    }\n",
       "\n",
       "    .dataframe thead th {\n",
       "        text-align: right;\n",
       "    }\n",
       "</style>\n",
       "<table border=\"1\" class=\"dataframe\">\n",
       "  <thead>\n",
       "    <tr style=\"text-align: right;\">\n",
       "      <th></th>\n",
       "      <th>id</th>\n",
       "      <th>belongs_to_collection</th>\n",
       "      <th>budget</th>\n",
       "      <th>genres</th>\n",
       "      <th>popularity</th>\n",
       "      <th>release_date</th>\n",
       "      <th>runtime</th>\n",
       "      <th>title</th>\n",
       "      <th>revenue</th>\n",
       "    </tr>\n",
       "  </thead>\n",
       "  <tbody>\n",
       "    <tr>\n",
       "      <th>0</th>\n",
       "      <td>1</td>\n",
       "      <td>[{'id': 313576, 'name': 'Hot Tub Time Machine ...</td>\n",
       "      <td>14000000</td>\n",
       "      <td>[{'id': 35, 'name': 'Comedy'}]</td>\n",
       "      <td>6.575393</td>\n",
       "      <td>2/20/15</td>\n",
       "      <td>93.0</td>\n",
       "      <td>Hot Tub Time Machine 2</td>\n",
       "      <td>12314651</td>\n",
       "    </tr>\n",
       "  </tbody>\n",
       "</table>\n",
       "</div>"
      ],
      "text/plain": [
       "   id                              belongs_to_collection    budget  \\\n",
       "0   1  [{'id': 313576, 'name': 'Hot Tub Time Machine ...  14000000   \n",
       "\n",
       "                           genres  popularity release_date  runtime  \\\n",
       "0  [{'id': 35, 'name': 'Comedy'}]    6.575393      2/20/15     93.0   \n",
       "\n",
       "                    title   revenue  \n",
       "0  Hot Tub Time Machine 2  12314651  "
      ]
     },
     "execution_count": 24,
     "metadata": {},
     "output_type": "execute_result"
    }
   ],
   "source": [
    "df.head(1)"
   ]
  },
  {
   "cell_type": "code",
   "execution_count": 25,
   "metadata": {},
   "outputs": [],
   "source": [
    "#Adjust belongs to collection, create features and target (profitable y/n)\n",
    "df= df.fillna(0)"
   ]
  },
  {
   "cell_type": "code",
   "execution_count": 26,
   "metadata": {},
   "outputs": [
    {
     "data": {
      "text/plain": [
       "id                       0\n",
       "belongs_to_collection    0\n",
       "budget                   0\n",
       "genres                   0\n",
       "popularity               0\n",
       "release_date             0\n",
       "runtime                  0\n",
       "title                    0\n",
       "revenue                  0\n",
       "dtype: int64"
      ]
     },
     "execution_count": 26,
     "metadata": {},
     "output_type": "execute_result"
    }
   ],
   "source": [
    "df.isnull().sum()"
   ]
  },
  {
   "cell_type": "code",
   "execution_count": 27,
   "metadata": {},
   "outputs": [],
   "source": [
    "#create a feature that is gross profit pct_profit\n",
    "df['gross_profit']= df['revenue']- df['budget']"
   ]
  },
  {
   "cell_type": "code",
   "execution_count": 28,
   "metadata": {},
   "outputs": [],
   "source": [
    "#Will drop all movies with no budget listed\n",
    "df = df[df.budget != 0]"
   ]
  },
  {
   "cell_type": "code",
   "execution_count": 29,
   "metadata": {},
   "outputs": [],
   "source": [
    "#Creating a pct profit column\n",
    "df['pct_profit']= (df['gross_profit']/df['revenue']*100).round(2)"
   ]
  },
  {
   "cell_type": "code",
   "execution_count": 30,
   "metadata": {},
   "outputs": [
    {
     "data": {
      "text/html": [
       "<div>\n",
       "<style scoped>\n",
       "    .dataframe tbody tr th:only-of-type {\n",
       "        vertical-align: middle;\n",
       "    }\n",
       "\n",
       "    .dataframe tbody tr th {\n",
       "        vertical-align: top;\n",
       "    }\n",
       "\n",
       "    .dataframe thead th {\n",
       "        text-align: right;\n",
       "    }\n",
       "</style>\n",
       "<table border=\"1\" class=\"dataframe\">\n",
       "  <thead>\n",
       "    <tr style=\"text-align: right;\">\n",
       "      <th></th>\n",
       "      <th>id</th>\n",
       "      <th>belongs_to_collection</th>\n",
       "      <th>budget</th>\n",
       "      <th>genres</th>\n",
       "      <th>popularity</th>\n",
       "      <th>release_date</th>\n",
       "      <th>runtime</th>\n",
       "      <th>title</th>\n",
       "      <th>revenue</th>\n",
       "      <th>gross_profit</th>\n",
       "      <th>pct_profit</th>\n",
       "    </tr>\n",
       "  </thead>\n",
       "  <tbody>\n",
       "    <tr>\n",
       "      <th>0</th>\n",
       "      <td>1</td>\n",
       "      <td>[{'id': 313576, 'name': 'Hot Tub Time Machine ...</td>\n",
       "      <td>14000000</td>\n",
       "      <td>[{'id': 35, 'name': 'Comedy'}]</td>\n",
       "      <td>6.575393</td>\n",
       "      <td>2/20/15</td>\n",
       "      <td>93.0</td>\n",
       "      <td>Hot Tub Time Machine 2</td>\n",
       "      <td>12314651</td>\n",
       "      <td>-1685349</td>\n",
       "      <td>-13.69</td>\n",
       "    </tr>\n",
       "  </tbody>\n",
       "</table>\n",
       "</div>"
      ],
      "text/plain": [
       "   id                              belongs_to_collection    budget  \\\n",
       "0   1  [{'id': 313576, 'name': 'Hot Tub Time Machine ...  14000000   \n",
       "\n",
       "                           genres  popularity release_date  runtime  \\\n",
       "0  [{'id': 35, 'name': 'Comedy'}]    6.575393      2/20/15     93.0   \n",
       "\n",
       "                    title   revenue  gross_profit  pct_profit  \n",
       "0  Hot Tub Time Machine 2  12314651      -1685349      -13.69  "
      ]
     },
     "execution_count": 30,
     "metadata": {},
     "output_type": "execute_result"
    }
   ],
   "source": [
    "df.head(1)"
   ]
  },
  {
   "cell_type": "code",
   "execution_count": 31,
   "metadata": {},
   "outputs": [],
   "source": [
    "# create date related features\n",
    "df.release_date = pd.to_datetime(df.release_date)\n",
    "df['release_year'] = df.release_date.dt.year\n",
    "df['release_year'] = df.release_year.apply(lambda x: x-100 if x > 2020 else x)"
   ]
  },
  {
   "cell_type": "code",
   "execution_count": 32,
   "metadata": {},
   "outputs": [],
   "source": [
    "#All films that beloing to a collection (book, franchise, etc.) assigned a 1\n",
    "df.belongs_to_collection.loc[df['belongs_to_collection']!=0]=1\n",
    "        "
   ]
  },
  {
   "cell_type": "code",
   "execution_count": 33,
   "metadata": {},
   "outputs": [
    {
     "data": {
      "text/html": [
       "<div>\n",
       "<style scoped>\n",
       "    .dataframe tbody tr th:only-of-type {\n",
       "        vertical-align: middle;\n",
       "    }\n",
       "\n",
       "    .dataframe tbody tr th {\n",
       "        vertical-align: top;\n",
       "    }\n",
       "\n",
       "    .dataframe thead th {\n",
       "        text-align: right;\n",
       "    }\n",
       "</style>\n",
       "<table border=\"1\" class=\"dataframe\">\n",
       "  <thead>\n",
       "    <tr style=\"text-align: right;\">\n",
       "      <th></th>\n",
       "      <th>id</th>\n",
       "      <th>belongs_to_collection</th>\n",
       "      <th>budget</th>\n",
       "      <th>genres</th>\n",
       "      <th>popularity</th>\n",
       "      <th>release_date</th>\n",
       "      <th>runtime</th>\n",
       "      <th>title</th>\n",
       "      <th>revenue</th>\n",
       "      <th>gross_profit</th>\n",
       "      <th>pct_profit</th>\n",
       "      <th>release_year</th>\n",
       "    </tr>\n",
       "  </thead>\n",
       "  <tbody>\n",
       "    <tr>\n",
       "      <th>0</th>\n",
       "      <td>1</td>\n",
       "      <td>1</td>\n",
       "      <td>14000000</td>\n",
       "      <td>[{'id': 35, 'name': 'Comedy'}]</td>\n",
       "      <td>6.575393</td>\n",
       "      <td>2015-02-20</td>\n",
       "      <td>93.0</td>\n",
       "      <td>Hot Tub Time Machine 2</td>\n",
       "      <td>12314651</td>\n",
       "      <td>-1685349</td>\n",
       "      <td>-13.69</td>\n",
       "      <td>2015</td>\n",
       "    </tr>\n",
       "    <tr>\n",
       "      <th>1</th>\n",
       "      <td>2</td>\n",
       "      <td>1</td>\n",
       "      <td>40000000</td>\n",
       "      <td>[{'id': 35, 'name': 'Comedy'}, {'id': 18, 'nam...</td>\n",
       "      <td>8.248895</td>\n",
       "      <td>2004-08-06</td>\n",
       "      <td>113.0</td>\n",
       "      <td>The Princess Diaries 2: Royal Engagement</td>\n",
       "      <td>95149435</td>\n",
       "      <td>55149435</td>\n",
       "      <td>57.96</td>\n",
       "      <td>2004</td>\n",
       "    </tr>\n",
       "    <tr>\n",
       "      <th>2</th>\n",
       "      <td>3</td>\n",
       "      <td>0</td>\n",
       "      <td>3300000</td>\n",
       "      <td>[{'id': 18, 'name': 'Drama'}]</td>\n",
       "      <td>64.299990</td>\n",
       "      <td>2014-10-10</td>\n",
       "      <td>105.0</td>\n",
       "      <td>Whiplash</td>\n",
       "      <td>13092000</td>\n",
       "      <td>9792000</td>\n",
       "      <td>74.79</td>\n",
       "      <td>2014</td>\n",
       "    </tr>\n",
       "    <tr>\n",
       "      <th>3</th>\n",
       "      <td>4</td>\n",
       "      <td>0</td>\n",
       "      <td>1200000</td>\n",
       "      <td>[{'id': 53, 'name': 'Thriller'}, {'id': 18, 'n...</td>\n",
       "      <td>3.174936</td>\n",
       "      <td>2012-03-09</td>\n",
       "      <td>122.0</td>\n",
       "      <td>Kahaani</td>\n",
       "      <td>16000000</td>\n",
       "      <td>14800000</td>\n",
       "      <td>92.50</td>\n",
       "      <td>2012</td>\n",
       "    </tr>\n",
       "    <tr>\n",
       "      <th>5</th>\n",
       "      <td>6</td>\n",
       "      <td>0</td>\n",
       "      <td>8000000</td>\n",
       "      <td>[{'id': 16, 'name': 'Animation'}, {'id': 12, '...</td>\n",
       "      <td>0.743274</td>\n",
       "      <td>1987-08-06</td>\n",
       "      <td>83.0</td>\n",
       "      <td>Pinocchio and the Emperor of the Night</td>\n",
       "      <td>3261638</td>\n",
       "      <td>-4738362</td>\n",
       "      <td>-145.28</td>\n",
       "      <td>1987</td>\n",
       "    </tr>\n",
       "  </tbody>\n",
       "</table>\n",
       "</div>"
      ],
      "text/plain": [
       "   id  belongs_to_collection    budget  \\\n",
       "0   1                      1  14000000   \n",
       "1   2                      1  40000000   \n",
       "2   3                      0   3300000   \n",
       "3   4                      0   1200000   \n",
       "5   6                      0   8000000   \n",
       "\n",
       "                                              genres  popularity release_date  \\\n",
       "0                     [{'id': 35, 'name': 'Comedy'}]    6.575393   2015-02-20   \n",
       "1  [{'id': 35, 'name': 'Comedy'}, {'id': 18, 'nam...    8.248895   2004-08-06   \n",
       "2                      [{'id': 18, 'name': 'Drama'}]   64.299990   2014-10-10   \n",
       "3  [{'id': 53, 'name': 'Thriller'}, {'id': 18, 'n...    3.174936   2012-03-09   \n",
       "5  [{'id': 16, 'name': 'Animation'}, {'id': 12, '...    0.743274   1987-08-06   \n",
       "\n",
       "   runtime                                     title   revenue  gross_profit  \\\n",
       "0     93.0                    Hot Tub Time Machine 2  12314651      -1685349   \n",
       "1    113.0  The Princess Diaries 2: Royal Engagement  95149435      55149435   \n",
       "2    105.0                                  Whiplash  13092000       9792000   \n",
       "3    122.0                                   Kahaani  16000000      14800000   \n",
       "5     83.0    Pinocchio and the Emperor of the Night   3261638      -4738362   \n",
       "\n",
       "   pct_profit  release_year  \n",
       "0      -13.69          2015  \n",
       "1       57.96          2004  \n",
       "2       74.79          2014  \n",
       "3       92.50          2012  \n",
       "5     -145.28          1987  "
      ]
     },
     "execution_count": 33,
     "metadata": {},
     "output_type": "execute_result"
    }
   ],
   "source": [
    "df.round(decimals=2)\n",
    "df.head()"
   ]
  },
  {
   "cell_type": "code",
   "execution_count": 34,
   "metadata": {},
   "outputs": [
    {
     "data": {
      "text/plain": [
       "(array([  7.,  18.,  15.,  31.,  44.,  62., 190., 310., 677., 834.]),\n",
       " array([1921. , 1930.6, 1940.2, 1949.8, 1959.4, 1969. , 1978.6, 1988.2,\n",
       "        1997.8, 2007.4, 2017. ]),\n",
       " <a list of 10 Patch objects>)"
      ]
     },
     "execution_count": 34,
     "metadata": {},
     "output_type": "execute_result"
    },
    {
     "data": {
      "image/png": "[encoded data removed]",
      "text/plain": [
       "<Figure size 432x288 with 1 Axes>"
      ]
     },
     "metadata": {
      "needs_background": "light"
     },
     "output_type": "display_data"
    }
   ],
   "source": [
    "plt.hist(df['release_year'])"
   ]
  },
  {
   "cell_type": "code",
   "execution_count": 35,
   "metadata": {},
   "outputs": [],
   "source": [
    "#grouped hrelease dates into time periods into 6 groups\n",
    "release_time= {'release_time' : []}\n",
    "for x in df['release_year']:\n",
    "#     print(x)\n",
    "    if x > 2010:\n",
    "        release_time['release_time'].append('1')\n",
    "    elif x>=2005:\n",
    "        release_time['release_time'].append('2')\n",
    "    elif x >=2000:\n",
    "        release_time['release_time'].append('3')\n",
    "    elif x >= 1995:\n",
    "        release_time['release_time'].append('4')\n",
    "    elif x >= 1990:\n",
    "        release_time['release_time'].append('5')\n",
    "    else:\n",
    "        release_time['release_time'].append('6')\n",
    "\n",
    "#df\n",
    "df['release_time']= release_time['release_time']"
   ]
  },
  {
   "cell_type": "code",
   "execution_count": 38,
   "metadata": {},
   "outputs": [
    {
     "data": {
      "text/html": [
       "<div>\n",
       "<style scoped>\n",
       "    .dataframe tbody tr th:only-of-type {\n",
       "        vertical-align: middle;\n",
       "    }\n",
       "\n",
       "    .dataframe tbody tr th {\n",
       "        vertical-align: top;\n",
       "    }\n",
       "\n",
       "    .dataframe thead th {\n",
       "        text-align: right;\n",
       "    }\n",
       "</style>\n",
       "<table border=\"1\" class=\"dataframe\">\n",
       "  <thead>\n",
       "    <tr style=\"text-align: right;\">\n",
       "      <th></th>\n",
       "      <th>id</th>\n",
       "      <th>belongs_to_collection</th>\n",
       "      <th>budget</th>\n",
       "      <th>genres</th>\n",
       "      <th>popularity</th>\n",
       "      <th>release_date</th>\n",
       "      <th>runtime</th>\n",
       "      <th>title</th>\n",
       "      <th>revenue</th>\n",
       "      <th>gross_profit</th>\n",
       "      <th>pct_profit</th>\n",
       "      <th>release_year</th>\n",
       "      <th>release_time</th>\n",
       "    </tr>\n",
       "  </thead>\n",
       "  <tbody>\n",
       "    <tr>\n",
       "      <th>0</th>\n",
       "      <td>1</td>\n",
       "      <td>1</td>\n",
       "      <td>14000000</td>\n",
       "      <td>[{'id': 35, 'name': 'Comedy'}]</td>\n",
       "      <td>6.575393</td>\n",
       "      <td>2015-02-20</td>\n",
       "      <td>93.0</td>\n",
       "      <td>Hot Tub Time Machine 2</td>\n",
       "      <td>12314651</td>\n",
       "      <td>-1685349</td>\n",
       "      <td>-13.69</td>\n",
       "      <td>2015</td>\n",
       "      <td>1</td>\n",
       "    </tr>\n",
       "    <tr>\n",
       "      <th>1</th>\n",
       "      <td>2</td>\n",
       "      <td>1</td>\n",
       "      <td>40000000</td>\n",
       "      <td>[{'id': 35, 'name': 'Comedy'}, {'id': 18, 'nam...</td>\n",
       "      <td>8.248895</td>\n",
       "      <td>2004-08-06</td>\n",
       "      <td>113.0</td>\n",
       "      <td>The Princess Diaries 2: Royal Engagement</td>\n",
       "      <td>95149435</td>\n",
       "      <td>55149435</td>\n",
       "      <td>57.96</td>\n",
       "      <td>2004</td>\n",
       "      <td>3</td>\n",
       "    </tr>\n",
       "    <tr>\n",
       "      <th>2</th>\n",
       "      <td>3</td>\n",
       "      <td>0</td>\n",
       "      <td>3300000</td>\n",
       "      <td>[{'id': 18, 'name': 'Drama'}]</td>\n",
       "      <td>64.299990</td>\n",
       "      <td>2014-10-10</td>\n",
       "      <td>105.0</td>\n",
       "      <td>Whiplash</td>\n",
       "      <td>13092000</td>\n",
       "      <td>9792000</td>\n",
       "      <td>74.79</td>\n",
       "      <td>2014</td>\n",
       "      <td>1</td>\n",
       "    </tr>\n",
       "    <tr>\n",
       "      <th>3</th>\n",
       "      <td>4</td>\n",
       "      <td>0</td>\n",
       "      <td>1200000</td>\n",
       "      <td>[{'id': 53, 'name': 'Thriller'}, {'id': 18, 'n...</td>\n",
       "      <td>3.174936</td>\n",
       "      <td>2012-03-09</td>\n",
       "      <td>122.0</td>\n",
       "      <td>Kahaani</td>\n",
       "      <td>16000000</td>\n",
       "      <td>14800000</td>\n",
       "      <td>92.50</td>\n",
       "      <td>2012</td>\n",
       "      <td>1</td>\n",
       "    </tr>\n",
       "    <tr>\n",
       "      <th>5</th>\n",
       "      <td>6</td>\n",
       "      <td>0</td>\n",
       "      <td>8000000</td>\n",
       "      <td>[{'id': 16, 'name': 'Animation'}, {'id': 12, '...</td>\n",
       "      <td>0.743274</td>\n",
       "      <td>1987-08-06</td>\n",
       "      <td>83.0</td>\n",
       "      <td>Pinocchio and the Emperor of the Night</td>\n",
       "      <td>3261638</td>\n",
       "      <td>-4738362</td>\n",
       "      <td>-145.28</td>\n",
       "      <td>1987</td>\n",
       "      <td>6</td>\n",
       "    </tr>\n",
       "  </tbody>\n",
       "</table>\n",
       "</div>"
      ],
      "text/plain": [
       "   id  belongs_to_collection    budget  \\\n",
       "0   1                      1  14000000   \n",
       "1   2                      1  40000000   \n",
       "2   3                      0   3300000   \n",
       "3   4                      0   1200000   \n",
       "5   6                      0   8000000   \n",
       "\n",
       "                                              genres  popularity release_date  \\\n",
       "0                     [{'id': 35, 'name': 'Comedy'}]    6.575393   2015-02-20   \n",
       "1  [{'id': 35, 'name': 'Comedy'}, {'id': 18, 'nam...    8.248895   2004-08-06   \n",
       "2                      [{'id': 18, 'name': 'Drama'}]   64.299990   2014-10-10   \n",
       "3  [{'id': 53, 'name': 'Thriller'}, {'id': 18, 'n...    3.174936   2012-03-09   \n",
       "5  [{'id': 16, 'name': 'Animation'}, {'id': 12, '...    0.743274   1987-08-06   \n",
       "\n",
       "   runtime                                     title   revenue  gross_profit  \\\n",
       "0     93.0                    Hot Tub Time Machine 2  12314651      -1685349   \n",
       "1    113.0  The Princess Diaries 2: Royal Engagement  95149435      55149435   \n",
       "2    105.0                                  Whiplash  13092000       9792000   \n",
       "3    122.0                                   Kahaani  16000000      14800000   \n",
       "5     83.0    Pinocchio and the Emperor of the Night   3261638      -4738362   \n",
       "\n",
       "   pct_profit  release_year release_time  \n",
       "0      -13.69          2015            1  \n",
       "1       57.96          2004            3  \n",
       "2       74.79          2014            1  \n",
       "3       92.50          2012            1  \n",
       "5     -145.28          1987            6  "
      ]
     },
     "execution_count": 38,
     "metadata": {},
     "output_type": "execute_result"
    }
   ],
   "source": [
    "df['release_time'].astype(str).astype(int)\n",
    "df.head()"
   ]
  },
  {
   "cell_type": "code",
   "execution_count": null,
   "metadata": {},
   "outputs": [],
   "source": [
    "df['purchase'].astype(str).astype(int)"
   ]
  },
  {
   "cell_type": "code",
   "execution_count": null,
   "metadata": {},
   "outputs": [],
   "source": [
    "#will do Binary profitable yes/no, Threshold will be 25% profit\n",
    "profitable= {'profitable' : []}\n",
    "for x in df['pct_profit']:\n",
    "    if x > .25:\n",
    "        profitable['profitable'].append('1')\n",
    "    else:\n",
    "        profitable['profitable'].append('0')\n",
    "df['profitable']= profitable['profitable']\n",
    "\n"
   ]
  },
  {
   "cell_type": "code",
   "execution_count": null,
   "metadata": {},
   "outputs": [],
   "source": [
    "df.to_csv('df2')"
   ]
  },
  {
   "cell_type": "markdown",
   "metadata": {},
   "source": [
    "#### Exploration"
   ]
  },
  {
   "cell_type": "code",
   "execution_count": null,
   "metadata": {},
   "outputs": [],
   "source": [
    "df.profitable.value_counts().sort_index().plot(kind = \"bar\",alpha = .5)\n",
    "plt.title(\"distribution of profitable Movies\")\n",
    "plt.grid(b = True , which = \"major\")"
   ]
  },
  {
   "cell_type": "code",
   "execution_count": null,
   "metadata": {},
   "outputs": [],
   "source": [
    "sns.catplot(x=\"belongs_to_collection\", y=\"revenue\", data=df)\n",
    "plt.title('Revenue of the movies adapted from collection');"
   ]
  },
  {
   "cell_type": "code",
   "execution_count": null,
   "metadata": {},
   "outputs": [],
   "source": [
    "sns.catplot(x=\"profitable\", y=\"budget\", data=df)\n",
    "plt.title('Revenue of the movies adapted from collection');"
   ]
  },
  {
   "cell_type": "code",
   "execution_count": null,
   "metadata": {},
   "outputs": [],
   "source": [
    "df.head(1)\n",
    "df=pd.DataFrame(df)\n",
    "df['purchase'].astype(int)"
   ]
  },
  {
   "cell_type": "markdown",
   "metadata": {},
   "source": [
    "### Train model"
   ]
  },
  {
   "cell_type": "code",
   "execution_count": null,
   "metadata": {},
   "outputs": [],
   "source": [
    "X = df[['belongs_to_collection','budget','popularity', 'release_time','runtime']]\n",
    "y = df[['profitable']]\n",
    "\n",
    "X_train, X_test, y_train, y_test = train_test_split(X, y, test_size = .30, random_state = 123)\n",
    "\n",
    "X_train.head()\n",
    "X_train.info()"
   ]
  },
  {
   "cell_type": "code",
   "execution_count": null,
   "metadata": {},
   "outputs": [],
   "source": [
    "#Train Model\n",
    "\n",
    "#Create the logistic regression object\n",
    "\n",
    "\n",
    "\n",
    "logit = LogisticRegression(C=1, class_weight={1:2}, random_state = 123, solver='saga')"
   ]
  },
  {
   "cell_type": "code",
   "execution_count": null,
   "metadata": {},
   "outputs": [],
   "source": [
    "#Fit the model to the training data\n",
    "\n",
    "logit.fit(X_train, y_train)"
   ]
  },
  {
   "cell_type": "code",
   "execution_count": null,
   "metadata": {},
   "outputs": [],
   "source": []
  }
 ],
 "metadata": {
  "kernelspec": {
   "display_name": "Python 3",
   "language": "python",
   "name": "python3"
  },
  "language_info": {
   "codemirror_mode": {
    "name": "ipython",
    "version": 3
   },
   "file_extension": ".py",
   "mimetype": "text/x-python",
   "name": "python",
   "nbconvert_exporter": "python",
   "pygments_lexer": "ipython3",
   "version": "3.7.3"
  }
 },
 "nbformat": 4,
 "nbformat_minor": 2
}
