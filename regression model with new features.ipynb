{
 "cells": [
  {
   "cell_type": "code",
   "execution_count": 1,
   "metadata": {},
   "outputs": [
    {
     "name": "stderr",
     "output_type": "stream",
     "text": [
      "/usr/local/anaconda3/lib/python3.7/site-packages/sklearn/externals/joblib/__init__.py:15: DeprecationWarning: sklearn.externals.joblib is deprecated in 0.21 and will be removed in 0.23. Please import this functionality directly from joblib, which can be installed with: pip install joblib. If this warning is raised when loading pickled models, you may need to re-serialize those models with scikit-learn 0.21+.\n",
      "  warnings.warn(msg, category=DeprecationWarning)\n"
     ]
    }
   ],
   "source": [
    "import pandas as pd\n",
    "import numpy as np\n",
    "import matplotlib.pyplot as plt\n",
    "import seaborn as sns\n",
    "from sklearn.model_selection import train_test_split\n",
    "from sklearn.preprocessing import StandardScaler, MinMaxScaler\n",
    "from sklearn.metrics import mean_squared_error, r2_score, explained_variance_score\n",
    "from math import sqrt\n",
    "import warnings\n",
    "from sklearn.model_selection import cross_val_score\n",
    "from sklearn.externals import joblib\n",
    "from sklearn.model_selection import train_test_split\n",
    "from sklearn.linear_model import LinearRegression\n",
    "from sklearn.metrics import mean_squared_error\n",
    "from sklearn.metrics import r2_score"
   ]
  },
  {
   "cell_type": "code",
   "execution_count": 2,
   "metadata": {},
   "outputs": [],
   "source": [
    "df_orig= pd.read_csv('df_base')"
   ]
  },
  {
   "cell_type": "code",
   "execution_count": 3,
   "metadata": {},
   "outputs": [
    {
     "data": {
      "text/html": [
       "<div>\n",
       "<style scoped>\n",
       "    .dataframe tbody tr th:only-of-type {\n",
       "        vertical-align: middle;\n",
       "    }\n",
       "\n",
       "    .dataframe tbody tr th {\n",
       "        vertical-align: top;\n",
       "    }\n",
       "\n",
       "    .dataframe thead th {\n",
       "        text-align: right;\n",
       "    }\n",
       "</style>\n",
       "<table border=\"1\" class=\"dataframe\">\n",
       "  <thead>\n",
       "    <tr style=\"text-align: right;\">\n",
       "      <th></th>\n",
       "      <th>Unnamed: 0</th>\n",
       "      <th>id</th>\n",
       "      <th>budget</th>\n",
       "      <th>original_language</th>\n",
       "      <th>popularity</th>\n",
       "      <th>release_date</th>\n",
       "      <th>runtime</th>\n",
       "      <th>title</th>\n",
       "      <th>revenue</th>\n",
       "    </tr>\n",
       "  </thead>\n",
       "  <tbody>\n",
       "    <tr>\n",
       "      <th>0</th>\n",
       "      <td>0</td>\n",
       "      <td>1</td>\n",
       "      <td>14000000</td>\n",
       "      <td>en</td>\n",
       "      <td>6.575393</td>\n",
       "      <td>2/20/15</td>\n",
       "      <td>93.0</td>\n",
       "      <td>Hot Tub Time Machine 2</td>\n",
       "      <td>12314651</td>\n",
       "    </tr>\n",
       "    <tr>\n",
       "      <th>1</th>\n",
       "      <td>1</td>\n",
       "      <td>2</td>\n",
       "      <td>40000000</td>\n",
       "      <td>en</td>\n",
       "      <td>8.248895</td>\n",
       "      <td>8/6/04</td>\n",
       "      <td>113.0</td>\n",
       "      <td>The Princess Diaries 2: Royal Engagement</td>\n",
       "      <td>95149435</td>\n",
       "    </tr>\n",
       "    <tr>\n",
       "      <th>2</th>\n",
       "      <td>2</td>\n",
       "      <td>3</td>\n",
       "      <td>3300000</td>\n",
       "      <td>en</td>\n",
       "      <td>64.299990</td>\n",
       "      <td>10/10/14</td>\n",
       "      <td>105.0</td>\n",
       "      <td>Whiplash</td>\n",
       "      <td>13092000</td>\n",
       "    </tr>\n",
       "    <tr>\n",
       "      <th>3</th>\n",
       "      <td>3</td>\n",
       "      <td>4</td>\n",
       "      <td>1200000</td>\n",
       "      <td>hi</td>\n",
       "      <td>3.174936</td>\n",
       "      <td>3/9/12</td>\n",
       "      <td>122.0</td>\n",
       "      <td>Kahaani</td>\n",
       "      <td>16000000</td>\n",
       "    </tr>\n",
       "    <tr>\n",
       "      <th>4</th>\n",
       "      <td>4</td>\n",
       "      <td>5</td>\n",
       "      <td>0</td>\n",
       "      <td>ko</td>\n",
       "      <td>1.148070</td>\n",
       "      <td>2/5/09</td>\n",
       "      <td>118.0</td>\n",
       "      <td>Marine Boy</td>\n",
       "      <td>3923970</td>\n",
       "    </tr>\n",
       "  </tbody>\n",
       "</table>\n",
       "</div>"
      ],
      "text/plain": [
       "   Unnamed: 0  id    budget original_language  popularity release_date  \\\n",
       "0           0   1  14000000                en    6.575393      2/20/15   \n",
       "1           1   2  40000000                en    8.248895       8/6/04   \n",
       "2           2   3   3300000                en   64.299990     10/10/14   \n",
       "3           3   4   1200000                hi    3.174936       3/9/12   \n",
       "4           4   5         0                ko    1.148070       2/5/09   \n",
       "\n",
       "   runtime                                     title   revenue  \n",
       "0     93.0                    Hot Tub Time Machine 2  12314651  \n",
       "1    113.0  The Princess Diaries 2: Royal Engagement  95149435  \n",
       "2    105.0                                  Whiplash  13092000  \n",
       "3    122.0                                   Kahaani  16000000  \n",
       "4    118.0                                Marine Boy   3923970  "
      ]
     },
     "execution_count": 3,
     "metadata": {},
     "output_type": "execute_result"
    }
   ],
   "source": [
    "df= pd.read_csv('cleaned_df')\n",
    "pd.DataFrame(df)\n",
    "df.head()"
   ]
  },
  {
   "cell_type": "code",
   "execution_count": 4,
   "metadata": {},
   "outputs": [
    {
     "data": {
      "text/html": [
       "<div>\n",
       "<style scoped>\n",
       "    .dataframe tbody tr th:only-of-type {\n",
       "        vertical-align: middle;\n",
       "    }\n",
       "\n",
       "    .dataframe tbody tr th {\n",
       "        vertical-align: top;\n",
       "    }\n",
       "\n",
       "    .dataframe thead th {\n",
       "        text-align: right;\n",
       "    }\n",
       "</style>\n",
       "<table border=\"1\" class=\"dataframe\">\n",
       "  <thead>\n",
       "    <tr style=\"text-align: right;\">\n",
       "      <th></th>\n",
       "      <th>Unnamed: 0</th>\n",
       "      <th>id</th>\n",
       "      <th>budget</th>\n",
       "      <th>original_language</th>\n",
       "      <th>popularity</th>\n",
       "      <th>release_date</th>\n",
       "      <th>runtime</th>\n",
       "      <th>title</th>\n",
       "      <th>revenue</th>\n",
       "    </tr>\n",
       "  </thead>\n",
       "  <tbody>\n",
       "    <tr>\n",
       "      <th>0</th>\n",
       "      <td>0</td>\n",
       "      <td>1</td>\n",
       "      <td>14000000</td>\n",
       "      <td>en</td>\n",
       "      <td>6.575393</td>\n",
       "      <td>2/20/15</td>\n",
       "      <td>93.0</td>\n",
       "      <td>Hot Tub Time Machine 2</td>\n",
       "      <td>12314651</td>\n",
       "    </tr>\n",
       "    <tr>\n",
       "      <th>1</th>\n",
       "      <td>1</td>\n",
       "      <td>2</td>\n",
       "      <td>40000000</td>\n",
       "      <td>en</td>\n",
       "      <td>8.248895</td>\n",
       "      <td>8/6/04</td>\n",
       "      <td>113.0</td>\n",
       "      <td>The Princess Diaries 2: Royal Engagement</td>\n",
       "      <td>95149435</td>\n",
       "    </tr>\n",
       "    <tr>\n",
       "      <th>2</th>\n",
       "      <td>2</td>\n",
       "      <td>3</td>\n",
       "      <td>3300000</td>\n",
       "      <td>en</td>\n",
       "      <td>64.299990</td>\n",
       "      <td>10/10/14</td>\n",
       "      <td>105.0</td>\n",
       "      <td>Whiplash</td>\n",
       "      <td>13092000</td>\n",
       "    </tr>\n",
       "    <tr>\n",
       "      <th>3</th>\n",
       "      <td>3</td>\n",
       "      <td>4</td>\n",
       "      <td>1200000</td>\n",
       "      <td>hi</td>\n",
       "      <td>3.174936</td>\n",
       "      <td>3/9/12</td>\n",
       "      <td>122.0</td>\n",
       "      <td>Kahaani</td>\n",
       "      <td>16000000</td>\n",
       "    </tr>\n",
       "    <tr>\n",
       "      <th>4</th>\n",
       "      <td>4</td>\n",
       "      <td>5</td>\n",
       "      <td>0</td>\n",
       "      <td>ko</td>\n",
       "      <td>1.148070</td>\n",
       "      <td>2/5/09</td>\n",
       "      <td>118.0</td>\n",
       "      <td>Marine Boy</td>\n",
       "      <td>3923970</td>\n",
       "    </tr>\n",
       "  </tbody>\n",
       "</table>\n",
       "</div>"
      ],
      "text/plain": [
       "   Unnamed: 0  id    budget original_language  popularity release_date  \\\n",
       "0           0   1  14000000                en    6.575393      2/20/15   \n",
       "1           1   2  40000000                en    8.248895       8/6/04   \n",
       "2           2   3   3300000                en   64.299990     10/10/14   \n",
       "3           3   4   1200000                hi    3.174936       3/9/12   \n",
       "4           4   5         0                ko    1.148070       2/5/09   \n",
       "\n",
       "   runtime                                     title   revenue  \n",
       "0     93.0                    Hot Tub Time Machine 2  12314651  \n",
       "1    113.0  The Princess Diaries 2: Royal Engagement  95149435  \n",
       "2    105.0                                  Whiplash  13092000  \n",
       "3    122.0                                   Kahaani  16000000  \n",
       "4    118.0                                Marine Boy   3923970  "
      ]
     },
     "execution_count": 4,
     "metadata": {},
     "output_type": "execute_result"
    }
   ],
   "source": [
    "df.head()"
   ]
  },
  {
   "cell_type": "code",
   "execution_count": 5,
   "metadata": {},
   "outputs": [],
   "source": [
    "df_orig= df_orig.drop(columns=['poster_path', 'runtime', 'original_language','homepage', 'imdb_id', 'original_title', 'overview', 'status', 'Keywords', 'tagline', 'cast', 'crew', 'production_companies', 'production_countries', 'spoken_languages'])"
   ]
  },
  {
   "cell_type": "code",
   "execution_count": 6,
   "metadata": {},
   "outputs": [],
   "source": [
    "df=df_orig"
   ]
  },
  {
   "cell_type": "code",
   "execution_count": 7,
   "metadata": {},
   "outputs": [
    {
     "data": {
      "text/plain": [
       "Unnamed: 0                  0\n",
       "id                          0\n",
       "belongs_to_collection    2396\n",
       "budget                      0\n",
       "genres                      7\n",
       "popularity                  0\n",
       "release_date                0\n",
       "title                       0\n",
       "revenue                     0\n",
       "dtype: int64"
      ]
     },
     "execution_count": 7,
     "metadata": {},
     "output_type": "execute_result"
    }
   ],
   "source": [
    "df.isnull().sum()"
   ]
  },
  {
   "cell_type": "code",
   "execution_count": 8,
   "metadata": {},
   "outputs": [
    {
     "name": "stdout",
     "output_type": "stream",
     "text": [
      "<class 'pandas.core.frame.DataFrame'>\n",
      "RangeIndex: 3000 entries, 0 to 2999\n",
      "Data columns (total 9 columns):\n",
      "Unnamed: 0               3000 non-null int64\n",
      "id                       3000 non-null int64\n",
      "belongs_to_collection    604 non-null object\n",
      "budget                   3000 non-null int64\n",
      "genres                   2993 non-null object\n",
      "popularity               3000 non-null float64\n",
      "release_date             3000 non-null object\n",
      "title                    3000 non-null object\n",
      "revenue                  3000 non-null int64\n",
      "dtypes: float64(1), int64(4), object(4)\n",
      "memory usage: 211.0+ KB\n"
     ]
    }
   ],
   "source": [
    "df.info()"
   ]
  },
  {
   "cell_type": "code",
   "execution_count": 9,
   "metadata": {},
   "outputs": [],
   "source": [
    "#need to get rid of nulls and replace with '0'\n",
    "df= df.fillna(0)\n"
   ]
  },
  {
   "cell_type": "code",
   "execution_count": null,
   "metadata": {},
   "outputs": [],
   "source": []
  },
  {
   "cell_type": "code",
   "execution_count": 10,
   "metadata": {},
   "outputs": [
    {
     "name": "stderr",
     "output_type": "stream",
     "text": [
      "/usr/local/anaconda3/lib/python3.7/site-packages/pandas/core/indexing.py:190: SettingWithCopyWarning: \n",
      "A value is trying to be set on a copy of a slice from a DataFrame\n",
      "\n",
      "See the caveats in the documentation: http://pandas.pydata.org/pandas-docs/stable/indexing.html#indexing-view-versus-copy\n",
      "  self._setitem_with_indexer(indexer, value)\n"
     ]
    }
   ],
   "source": [
    "#All films that beloing to a collection (book, franchise, etc.) assigned a 1\n",
    "df.belongs_to_collection.loc[df['belongs_to_collection']!=0]=1"
   ]
  },
  {
   "cell_type": "code",
   "execution_count": null,
   "metadata": {},
   "outputs": [],
   "source": []
  },
  {
   "cell_type": "code",
   "execution_count": 11,
   "metadata": {},
   "outputs": [
    {
     "data": {
      "text/plain": [
       "count    3000.000000\n",
       "mean        8.463274\n",
       "std        12.104000\n",
       "min         0.000001\n",
       "25%         4.018053\n",
       "50%         7.374861\n",
       "75%        10.890983\n",
       "max       294.337037\n",
       "Name: popularity, dtype: float64"
      ]
     },
     "execution_count": 11,
     "metadata": {},
     "output_type": "execute_result"
    }
   ],
   "source": [
    "df['popularity'].describe()"
   ]
  },
  {
   "cell_type": "code",
   "execution_count": 12,
   "metadata": {},
   "outputs": [],
   "source": [
    "#create a feature that is gross profit pct_profit\n",
    "df['gross_profit']= df['revenue']- df['budget']"
   ]
  },
  {
   "cell_type": "code",
   "execution_count": 13,
   "metadata": {},
   "outputs": [
    {
     "data": {
      "text/plain": [
       "count    3.000000e+03\n",
       "mean     4.419452e+07\n",
       "std      1.123274e+08\n",
       "min     -1.074474e+08\n",
       "25%      1.795200e+04\n",
       "50%      6.121122e+06\n",
       "75%      4.143293e+07\n",
       "max      1.316249e+09\n",
       "Name: gross_profit, dtype: float64"
      ]
     },
     "execution_count": 13,
     "metadata": {},
     "output_type": "execute_result"
    }
   ],
   "source": [
    "df['gross_profit'].describe()"
   ]
  },
  {
   "cell_type": "code",
   "execution_count": 14,
   "metadata": {},
   "outputs": [],
   "source": [
    "#Creating a pct profit column\n",
    "df['pct_profit']= (df['gross_profit']/df['revenue']*100).round(2)"
   ]
  },
  {
   "cell_type": "code",
   "execution_count": 15,
   "metadata": {},
   "outputs": [
    {
     "name": "stdout",
     "output_type": "stream",
     "text": [
      "<class 'pandas.core.frame.DataFrame'>\n",
      "RangeIndex: 3000 entries, 0 to 2999\n",
      "Data columns (total 11 columns):\n",
      "Unnamed: 0               3000 non-null int64\n",
      "id                       3000 non-null int64\n",
      "belongs_to_collection    3000 non-null int64\n",
      "budget                   3000 non-null int64\n",
      "genres                   3000 non-null object\n",
      "popularity               3000 non-null float64\n",
      "release_date             3000 non-null object\n",
      "title                    3000 non-null object\n",
      "revenue                  3000 non-null int64\n",
      "gross_profit             3000 non-null int64\n",
      "pct_profit               3000 non-null float64\n",
      "dtypes: float64(2), int64(6), object(3)\n",
      "memory usage: 257.9+ KB\n"
     ]
    }
   ],
   "source": [
    "df.info()"
   ]
  },
  {
   "cell_type": "code",
   "execution_count": 16,
   "metadata": {},
   "outputs": [
    {
     "data": {
      "text/plain": [
       "count    3.000000e+03\n",
       "mean    -1.978185e+05\n",
       "std      4.921366e+06\n",
       "min     -1.916666e+08\n",
       "25%      1.466250e+01\n",
       "50%      7.059000e+01\n",
       "75%      1.000000e+02\n",
       "max      1.000000e+02\n",
       "Name: pct_profit, dtype: float64"
      ]
     },
     "execution_count": 16,
     "metadata": {},
     "output_type": "execute_result"
    }
   ],
   "source": [
    "df['pct_profit'].describe()"
   ]
  },
  {
   "cell_type": "code",
   "execution_count": 17,
   "metadata": {},
   "outputs": [
    {
     "data": {
      "text/html": [
       "<div>\n",
       "<style scoped>\n",
       "    .dataframe tbody tr th:only-of-type {\n",
       "        vertical-align: middle;\n",
       "    }\n",
       "\n",
       "    .dataframe tbody tr th {\n",
       "        vertical-align: top;\n",
       "    }\n",
       "\n",
       "    .dataframe thead th {\n",
       "        text-align: right;\n",
       "    }\n",
       "</style>\n",
       "<table border=\"1\" class=\"dataframe\">\n",
       "  <thead>\n",
       "    <tr style=\"text-align: right;\">\n",
       "      <th></th>\n",
       "      <th>Unnamed: 0</th>\n",
       "      <th>id</th>\n",
       "      <th>belongs_to_collection</th>\n",
       "      <th>budget</th>\n",
       "      <th>popularity</th>\n",
       "      <th>revenue</th>\n",
       "      <th>gross_profit</th>\n",
       "      <th>pct_profit</th>\n",
       "    </tr>\n",
       "  </thead>\n",
       "  <tbody>\n",
       "    <tr>\n",
       "      <th>count</th>\n",
       "      <td>2188.000000</td>\n",
       "      <td>2188.000000</td>\n",
       "      <td>2188.000000</td>\n",
       "      <td>2.188000e+03</td>\n",
       "      <td>2188.000000</td>\n",
       "      <td>2.188000e+03</td>\n",
       "      <td>2.188000e+03</td>\n",
       "      <td>2.188000e+03</td>\n",
       "    </tr>\n",
       "    <tr>\n",
       "      <th>mean</th>\n",
       "      <td>1507.420475</td>\n",
       "      <td>1508.420475</td>\n",
       "      <td>0.227605</td>\n",
       "      <td>3.089305e+07</td>\n",
       "      <td>9.700621</td>\n",
       "      <td>8.696605e+07</td>\n",
       "      <td>5.607299e+07</td>\n",
       "      <td>-2.712690e+05</td>\n",
       "    </tr>\n",
       "    <tr>\n",
       "      <th>std</th>\n",
       "      <td>863.873942</td>\n",
       "      <td>863.873942</td>\n",
       "      <td>0.419382</td>\n",
       "      <td>4.026785e+07</td>\n",
       "      <td>13.753541</td>\n",
       "      <td>1.554912e+08</td>\n",
       "      <td>1.285858e+08</td>\n",
       "      <td>5.761282e+06</td>\n",
       "    </tr>\n",
       "    <tr>\n",
       "      <th>min</th>\n",
       "      <td>0.000000</td>\n",
       "      <td>1.000000</td>\n",
       "      <td>0.000000</td>\n",
       "      <td>1.000000e+00</td>\n",
       "      <td>0.001880</td>\n",
       "      <td>1.000000e+00</td>\n",
       "      <td>-1.074474e+08</td>\n",
       "      <td>-1.916666e+08</td>\n",
       "    </tr>\n",
       "    <tr>\n",
       "      <th>25%</th>\n",
       "      <td>756.250000</td>\n",
       "      <td>757.250000</td>\n",
       "      <td>0.000000</td>\n",
       "      <td>5.150000e+06</td>\n",
       "      <td>5.398055</td>\n",
       "      <td>6.816828e+06</td>\n",
       "      <td>-1.606973e+06</td>\n",
       "      <td>-2.726250e+01</td>\n",
       "    </tr>\n",
       "    <tr>\n",
       "      <th>50%</th>\n",
       "      <td>1514.500000</td>\n",
       "      <td>1515.500000</td>\n",
       "      <td>0.000000</td>\n",
       "      <td>1.600000e+07</td>\n",
       "      <td>8.323165</td>\n",
       "      <td>2.891063e+07</td>\n",
       "      <td>1.034417e+07</td>\n",
       "      <td>5.009500e+01</td>\n",
       "    </tr>\n",
       "    <tr>\n",
       "      <th>75%</th>\n",
       "      <td>2245.500000</td>\n",
       "      <td>2246.500000</td>\n",
       "      <td>0.000000</td>\n",
       "      <td>4.000000e+07</td>\n",
       "      <td>11.657305</td>\n",
       "      <td>1.000342e+08</td>\n",
       "      <td>6.191157e+07</td>\n",
       "      <td>7.593750e+01</td>\n",
       "    </tr>\n",
       "    <tr>\n",
       "      <th>max</th>\n",
       "      <td>2999.000000</td>\n",
       "      <td>3000.000000</td>\n",
       "      <td>1.000000</td>\n",
       "      <td>3.800000e+08</td>\n",
       "      <td>294.337037</td>\n",
       "      <td>1.519558e+09</td>\n",
       "      <td>1.316249e+09</td>\n",
       "      <td>1.000000e+02</td>\n",
       "    </tr>\n",
       "  </tbody>\n",
       "</table>\n",
       "</div>"
      ],
      "text/plain": [
       "        Unnamed: 0           id  belongs_to_collection        budget  \\\n",
       "count  2188.000000  2188.000000            2188.000000  2.188000e+03   \n",
       "mean   1507.420475  1508.420475               0.227605  3.089305e+07   \n",
       "std     863.873942   863.873942               0.419382  4.026785e+07   \n",
       "min       0.000000     1.000000               0.000000  1.000000e+00   \n",
       "25%     756.250000   757.250000               0.000000  5.150000e+06   \n",
       "50%    1514.500000  1515.500000               0.000000  1.600000e+07   \n",
       "75%    2245.500000  2246.500000               0.000000  4.000000e+07   \n",
       "max    2999.000000  3000.000000               1.000000  3.800000e+08   \n",
       "\n",
       "        popularity       revenue  gross_profit    pct_profit  \n",
       "count  2188.000000  2.188000e+03  2.188000e+03  2.188000e+03  \n",
       "mean      9.700621  8.696605e+07  5.607299e+07 -2.712690e+05  \n",
       "std      13.753541  1.554912e+08  1.285858e+08  5.761282e+06  \n",
       "min       0.001880  1.000000e+00 -1.074474e+08 -1.916666e+08  \n",
       "25%       5.398055  6.816828e+06 -1.606973e+06 -2.726250e+01  \n",
       "50%       8.323165  2.891063e+07  1.034417e+07  5.009500e+01  \n",
       "75%      11.657305  1.000342e+08  6.191157e+07  7.593750e+01  \n",
       "max     294.337037  1.519558e+09  1.316249e+09  1.000000e+02  "
      ]
     },
     "execution_count": 17,
     "metadata": {},
     "output_type": "execute_result"
    }
   ],
   "source": [
    "#Will drop all movies with no budget listed\n",
    "df = df[df.budget != 0]\n",
    "df.describe()"
   ]
  },
  {
   "cell_type": "code",
   "execution_count": 18,
   "metadata": {},
   "outputs": [],
   "source": [
    "#Looking for correlations\n",
    "corr_matrix= df.corr()"
   ]
  },
  {
   "cell_type": "code",
   "execution_count": 19,
   "metadata": {},
   "outputs": [
    {
     "data": {
      "text/plain": [
       "pct_profit               1.000000\n",
       "revenue                  0.026353\n",
       "gross_profit             0.025878\n",
       "belongs_to_collection    0.025520\n",
       "id                       0.019531\n",
       "Unnamed: 0               0.019531\n",
       "budget                   0.019124\n",
       "popularity               0.017448\n",
       "Name: pct_profit, dtype: float64"
      ]
     },
     "execution_count": 19,
     "metadata": {},
     "output_type": "execute_result"
    }
   ],
   "source": [
    "#looking at each attribute's correlation\n",
    "corr_matrix['pct_profit'].sort_values(ascending=False)"
   ]
  },
  {
   "cell_type": "code",
   "execution_count": 20,
   "metadata": {},
   "outputs": [
    {
     "data": {
      "text/plain": [
       "<matplotlib.axes._subplots.AxesSubplot at 0x1a263b1a90>"
      ]
     },
     "execution_count": 20,
     "metadata": {},
     "output_type": "execute_result"
    },
    {
     "data": {
      "image/png": "[encoded data removed]",
      "text/plain": [
       "<Figure size 432x288 with 1 Axes>"
      ]
     },
     "metadata": {
      "needs_background": "light"
     },
     "output_type": "display_data"
    }
   ],
   "source": [
    "df.plot.scatter('budget','gross_profit')"
   ]
  },
  {
   "cell_type": "code",
   "execution_count": 21,
   "metadata": {},
   "outputs": [
    {
     "data": {
      "text/plain": [
       "Unnamed: 0               0\n",
       "id                       0\n",
       "belongs_to_collection    0\n",
       "budget                   0\n",
       "genres                   0\n",
       "popularity               0\n",
       "release_date             0\n",
       "title                    0\n",
       "revenue                  0\n",
       "gross_profit             0\n",
       "pct_profit               0\n",
       "dtype: int64"
      ]
     },
     "execution_count": 21,
     "metadata": {},
     "output_type": "execute_result"
    }
   ],
   "source": [
    "df.isnull().sum()"
   ]
  },
  {
   "cell_type": "code",
   "execution_count": 22,
   "metadata": {},
   "outputs": [
    {
     "data": {
      "text/html": [
       "<div>\n",
       "<style scoped>\n",
       "    .dataframe tbody tr th:only-of-type {\n",
       "        vertical-align: middle;\n",
       "    }\n",
       "\n",
       "    .dataframe tbody tr th {\n",
       "        vertical-align: top;\n",
       "    }\n",
       "\n",
       "    .dataframe thead th {\n",
       "        text-align: right;\n",
       "    }\n",
       "</style>\n",
       "<table border=\"1\" class=\"dataframe\">\n",
       "  <thead>\n",
       "    <tr style=\"text-align: right;\">\n",
       "      <th></th>\n",
       "      <th>Unnamed: 0</th>\n",
       "      <th>id</th>\n",
       "      <th>belongs_to_collection</th>\n",
       "      <th>budget</th>\n",
       "      <th>popularity</th>\n",
       "      <th>revenue</th>\n",
       "      <th>gross_profit</th>\n",
       "      <th>pct_profit</th>\n",
       "    </tr>\n",
       "  </thead>\n",
       "  <tbody>\n",
       "    <tr>\n",
       "      <th>count</th>\n",
       "      <td>2188.000000</td>\n",
       "      <td>2188.000000</td>\n",
       "      <td>2188.000000</td>\n",
       "      <td>2.188000e+03</td>\n",
       "      <td>2188.000000</td>\n",
       "      <td>2.188000e+03</td>\n",
       "      <td>2.188000e+03</td>\n",
       "      <td>2.188000e+03</td>\n",
       "    </tr>\n",
       "    <tr>\n",
       "      <th>mean</th>\n",
       "      <td>1507.420475</td>\n",
       "      <td>1508.420475</td>\n",
       "      <td>0.227605</td>\n",
       "      <td>3.089305e+07</td>\n",
       "      <td>9.700621</td>\n",
       "      <td>8.696605e+07</td>\n",
       "      <td>5.607299e+07</td>\n",
       "      <td>-2.712690e+05</td>\n",
       "    </tr>\n",
       "    <tr>\n",
       "      <th>std</th>\n",
       "      <td>863.873942</td>\n",
       "      <td>863.873942</td>\n",
       "      <td>0.419382</td>\n",
       "      <td>4.026785e+07</td>\n",
       "      <td>13.753541</td>\n",
       "      <td>1.554912e+08</td>\n",
       "      <td>1.285858e+08</td>\n",
       "      <td>5.761282e+06</td>\n",
       "    </tr>\n",
       "    <tr>\n",
       "      <th>min</th>\n",
       "      <td>0.000000</td>\n",
       "      <td>1.000000</td>\n",
       "      <td>0.000000</td>\n",
       "      <td>1.000000e+00</td>\n",
       "      <td>0.001880</td>\n",
       "      <td>1.000000e+00</td>\n",
       "      <td>-1.074474e+08</td>\n",
       "      <td>-1.916666e+08</td>\n",
       "    </tr>\n",
       "    <tr>\n",
       "      <th>25%</th>\n",
       "      <td>756.250000</td>\n",
       "      <td>757.250000</td>\n",
       "      <td>0.000000</td>\n",
       "      <td>5.150000e+06</td>\n",
       "      <td>5.398055</td>\n",
       "      <td>6.816828e+06</td>\n",
       "      <td>-1.606973e+06</td>\n",
       "      <td>-2.726250e+01</td>\n",
       "    </tr>\n",
       "    <tr>\n",
       "      <th>50%</th>\n",
       "      <td>1514.500000</td>\n",
       "      <td>1515.500000</td>\n",
       "      <td>0.000000</td>\n",
       "      <td>1.600000e+07</td>\n",
       "      <td>8.323165</td>\n",
       "      <td>2.891063e+07</td>\n",
       "      <td>1.034417e+07</td>\n",
       "      <td>5.009500e+01</td>\n",
       "    </tr>\n",
       "    <tr>\n",
       "      <th>75%</th>\n",
       "      <td>2245.500000</td>\n",
       "      <td>2246.500000</td>\n",
       "      <td>0.000000</td>\n",
       "      <td>4.000000e+07</td>\n",
       "      <td>11.657305</td>\n",
       "      <td>1.000342e+08</td>\n",
       "      <td>6.191157e+07</td>\n",
       "      <td>7.593750e+01</td>\n",
       "    </tr>\n",
       "    <tr>\n",
       "      <th>max</th>\n",
       "      <td>2999.000000</td>\n",
       "      <td>3000.000000</td>\n",
       "      <td>1.000000</td>\n",
       "      <td>3.800000e+08</td>\n",
       "      <td>294.337037</td>\n",
       "      <td>1.519558e+09</td>\n",
       "      <td>1.316249e+09</td>\n",
       "      <td>1.000000e+02</td>\n",
       "    </tr>\n",
       "  </tbody>\n",
       "</table>\n",
       "</div>"
      ],
      "text/plain": [
       "        Unnamed: 0           id  belongs_to_collection        budget  \\\n",
       "count  2188.000000  2188.000000            2188.000000  2.188000e+03   \n",
       "mean   1507.420475  1508.420475               0.227605  3.089305e+07   \n",
       "std     863.873942   863.873942               0.419382  4.026785e+07   \n",
       "min       0.000000     1.000000               0.000000  1.000000e+00   \n",
       "25%     756.250000   757.250000               0.000000  5.150000e+06   \n",
       "50%    1514.500000  1515.500000               0.000000  1.600000e+07   \n",
       "75%    2245.500000  2246.500000               0.000000  4.000000e+07   \n",
       "max    2999.000000  3000.000000               1.000000  3.800000e+08   \n",
       "\n",
       "        popularity       revenue  gross_profit    pct_profit  \n",
       "count  2188.000000  2.188000e+03  2.188000e+03  2.188000e+03  \n",
       "mean      9.700621  8.696605e+07  5.607299e+07 -2.712690e+05  \n",
       "std      13.753541  1.554912e+08  1.285858e+08  5.761282e+06  \n",
       "min       0.001880  1.000000e+00 -1.074474e+08 -1.916666e+08  \n",
       "25%       5.398055  6.816828e+06 -1.606973e+06 -2.726250e+01  \n",
       "50%       8.323165  2.891063e+07  1.034417e+07  5.009500e+01  \n",
       "75%      11.657305  1.000342e+08  6.191157e+07  7.593750e+01  \n",
       "max     294.337037  1.519558e+09  1.316249e+09  1.000000e+02  "
      ]
     },
     "execution_count": 22,
     "metadata": {},
     "output_type": "execute_result"
    }
   ],
   "source": [
    "df.describe()"
   ]
  },
  {
   "cell_type": "code",
   "execution_count": 26,
   "metadata": {},
   "outputs": [
    {
     "data": {
      "text/plain": [
       "<matplotlib.axes._subplots.AxesSubplot at 0x1a270d6f98>"
      ]
     },
     "execution_count": 26,
     "metadata": {},
     "output_type": "execute_result"
    },
    {
     "data": {
      "image/png": "[encoded data removed]",
      "text/plain": [
       "<Figure size 432x288 with 1 Axes>"
      ]
     },
     "metadata": {
      "needs_background": "light"
     },
     "output_type": "display_data"
    }
   ],
   "source": [
    "sns.boxplot(x=df[\"pct_profit\"])"
   ]
  },
  {
   "cell_type": "code",
   "execution_count": 27,
   "metadata": {},
   "outputs": [
    {
     "data": {
      "text/html": [
       "<div>\n",
       "<style scoped>\n",
       "    .dataframe tbody tr th:only-of-type {\n",
       "        vertical-align: middle;\n",
       "    }\n",
       "\n",
       "    .dataframe tbody tr th {\n",
       "        vertical-align: top;\n",
       "    }\n",
       "\n",
       "    .dataframe thead th {\n",
       "        text-align: right;\n",
       "    }\n",
       "</style>\n",
       "<table border=\"1\" class=\"dataframe\">\n",
       "  <thead>\n",
       "    <tr style=\"text-align: right;\">\n",
       "      <th></th>\n",
       "      <th>Unnamed: 0</th>\n",
       "      <th>id</th>\n",
       "      <th>belongs_to_collection</th>\n",
       "      <th>budget</th>\n",
       "      <th>genres</th>\n",
       "      <th>popularity</th>\n",
       "      <th>release_date</th>\n",
       "      <th>title</th>\n",
       "      <th>revenue</th>\n",
       "      <th>gross_profit</th>\n",
       "      <th>pct_profit</th>\n",
       "    </tr>\n",
       "  </thead>\n",
       "  <tbody>\n",
       "    <tr>\n",
       "      <th>0</th>\n",
       "      <td>0</td>\n",
       "      <td>1</td>\n",
       "      <td>1</td>\n",
       "      <td>14000000</td>\n",
       "      <td>[{'id': 35, 'name': 'Comedy'}]</td>\n",
       "      <td>6.575393</td>\n",
       "      <td>2/20/15</td>\n",
       "      <td>Hot Tub Time Machine 2</td>\n",
       "      <td>12314651</td>\n",
       "      <td>-1685349</td>\n",
       "      <td>-13.69</td>\n",
       "    </tr>\n",
       "    <tr>\n",
       "      <th>1</th>\n",
       "      <td>1</td>\n",
       "      <td>2</td>\n",
       "      <td>1</td>\n",
       "      <td>40000000</td>\n",
       "      <td>[{'id': 35, 'name': 'Comedy'}, {'id': 18, 'nam...</td>\n",
       "      <td>8.248895</td>\n",
       "      <td>8/6/04</td>\n",
       "      <td>The Princess Diaries 2: Royal Engagement</td>\n",
       "      <td>95149435</td>\n",
       "      <td>55149435</td>\n",
       "      <td>57.96</td>\n",
       "    </tr>\n",
       "    <tr>\n",
       "      <th>2</th>\n",
       "      <td>2</td>\n",
       "      <td>3</td>\n",
       "      <td>0</td>\n",
       "      <td>3300000</td>\n",
       "      <td>[{'id': 18, 'name': 'Drama'}]</td>\n",
       "      <td>64.299990</td>\n",
       "      <td>10/10/14</td>\n",
       "      <td>Whiplash</td>\n",
       "      <td>13092000</td>\n",
       "      <td>9792000</td>\n",
       "      <td>74.79</td>\n",
       "    </tr>\n",
       "    <tr>\n",
       "      <th>3</th>\n",
       "      <td>3</td>\n",
       "      <td>4</td>\n",
       "      <td>0</td>\n",
       "      <td>1200000</td>\n",
       "      <td>[{'id': 53, 'name': 'Thriller'}, {'id': 18, 'n...</td>\n",
       "      <td>3.174936</td>\n",
       "      <td>3/9/12</td>\n",
       "      <td>Kahaani</td>\n",
       "      <td>16000000</td>\n",
       "      <td>14800000</td>\n",
       "      <td>92.50</td>\n",
       "    </tr>\n",
       "    <tr>\n",
       "      <th>5</th>\n",
       "      <td>5</td>\n",
       "      <td>6</td>\n",
       "      <td>0</td>\n",
       "      <td>8000000</td>\n",
       "      <td>[{'id': 16, 'name': 'Animation'}, {'id': 12, '...</td>\n",
       "      <td>0.743274</td>\n",
       "      <td>8/6/87</td>\n",
       "      <td>Pinocchio and the Emperor of the Night</td>\n",
       "      <td>3261638</td>\n",
       "      <td>-4738362</td>\n",
       "      <td>-145.28</td>\n",
       "    </tr>\n",
       "  </tbody>\n",
       "</table>\n",
       "</div>"
      ],
      "text/plain": [
       "   Unnamed: 0  id  belongs_to_collection    budget  \\\n",
       "0           0   1                      1  14000000   \n",
       "1           1   2                      1  40000000   \n",
       "2           2   3                      0   3300000   \n",
       "3           3   4                      0   1200000   \n",
       "5           5   6                      0   8000000   \n",
       "\n",
       "                                              genres  popularity release_date  \\\n",
       "0                     [{'id': 35, 'name': 'Comedy'}]    6.575393      2/20/15   \n",
       "1  [{'id': 35, 'name': 'Comedy'}, {'id': 18, 'nam...    8.248895       8/6/04   \n",
       "2                      [{'id': 18, 'name': 'Drama'}]   64.299990     10/10/14   \n",
       "3  [{'id': 53, 'name': 'Thriller'}, {'id': 18, 'n...    3.174936       3/9/12   \n",
       "5  [{'id': 16, 'name': 'Animation'}, {'id': 12, '...    0.743274       8/6/87   \n",
       "\n",
       "                                      title   revenue  gross_profit  \\\n",
       "0                    Hot Tub Time Machine 2  12314651      -1685349   \n",
       "1  The Princess Diaries 2: Royal Engagement  95149435      55149435   \n",
       "2                                  Whiplash  13092000       9792000   \n",
       "3                                   Kahaani  16000000      14800000   \n",
       "5    Pinocchio and the Emperor of the Night   3261638      -4738362   \n",
       "\n",
       "   pct_profit  \n",
       "0      -13.69  \n",
       "1       57.96  \n",
       "2       74.79  \n",
       "3       92.50  \n",
       "5     -145.28  "
      ]
     },
     "execution_count": 27,
     "metadata": {},
     "output_type": "execute_result"
    }
   ],
   "source": [
    "df.head()"
   ]
  },
  {
   "cell_type": "code",
   "execution_count": null,
   "metadata": {},
   "outputs": [],
   "source": [
    "df[df[['revenue', 'budget']].replace('[\\$,]', '', regex=True).astype(float)"
   ]
  }
 ],
 "metadata": {
  "kernelspec": {
   "display_name": "Python 3",
   "language": "python",
   "name": "python3"
  },
  "language_info": {
   "codemirror_mode": {
    "name": "ipython",
    "version": 3
   },
   "file_extension": ".py",
   "mimetype": "text/x-python",
   "name": "python",
   "nbconvert_exporter": "python",
   "pygments_lexer": "ipython3",
   "version": "3.7.3"
  }
 },
 "nbformat": 4,
 "nbformat_minor": 2
}
